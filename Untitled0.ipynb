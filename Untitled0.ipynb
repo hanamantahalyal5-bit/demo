{
  "nbformat": 4,
  "nbformat_minor": 0,
  "metadata": {
    "colab": {
      "provenance": []
    },
    "kernelspec": {
      "name": "python3",
      "display_name": "Python 3"
    },
    "language_info": {
      "name": "python"
    }
  },
  "cells": [
    {
      "cell_type": "markdown",
      "source": [
        "1. what is python in programming languagee?\n",
        "  - it is programming language that's it\n",
        "2.why is it require for data analytics ?\n",
        "  - hup,it's absolutly require for data analytics and for programming filed\n",
        "  "
      ],
      "metadata": {
        "id": "EvG1Hb0VI-XN"
      }
    },
    {
      "cell_type": "code",
      "execution_count": null,
      "metadata": {
        "id": "NolC_EcWDyGV"
      },
      "outputs": [],
      "source": []
    },
    {
      "cell_type": "code",
      "source": [
        "#questions\n",
        "'''\n",
        "hey,my name is hanumath halyal ,is it okay for pratice otherwise do any othre staff\n",
        "'''"
      ],
      "metadata": {
        "colab": {
          "base_uri": "https://localhost:8080/",
          "height": 36
        },
        "id": "fhv5rwLKJ3Zc",
        "outputId": "d44df720-ae85-420e-f386-60c5f5aa1908"
      },
      "execution_count": 2,
      "outputs": [
        {
          "output_type": "execute_result",
          "data": {
            "text/plain": [
              "'\\nhey,my name is hanumath halyal ,is it okay for pratice otherwise do any othre staff\\n'"
            ],
            "application/vnd.google.colaboratory.intrinsic+json": {
              "type": "string"
            }
          },
          "metadata": {},
          "execution_count": 2
        }
      ]
    },
    {
      "cell_type": "code",
      "source": [
        "# question\n",
        "'''\n",
        "this is answer\n",
        "'''\n",
        "\"\"\"\n",
        "  this is answer\n",
        "\"\"\""
      ],
      "metadata": {
        "colab": {
          "base_uri": "https://localhost:8080/",
          "height": 36
        },
        "id": "XZaMYjKNK-eX",
        "outputId": "367a0fdd-0761-4dee-bacf-95289aba8b04"
      },
      "execution_count": 5,
      "outputs": [
        {
          "output_type": "execute_result",
          "data": {
            "text/plain": [
              "'\\n  this is answer \\n'"
            ],
            "application/vnd.google.colaboratory.intrinsic+json": {
              "type": "string"
            }
          },
          "metadata": {},
          "execution_count": 5
        }
      ]
    }
  ]
}