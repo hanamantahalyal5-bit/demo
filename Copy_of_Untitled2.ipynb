{
  "nbformat": 4,
  "nbformat_minor": 0,
  "metadata": {
    "colab": {
      "provenance": []
    },
    "kernelspec": {
      "name": "python3",
      "display_name": "Python 3"
    },
    "language_info": {
      "name": "python"
    }
  },
  "cells": [
    {
      "cell_type": "markdown",
      "source": [
        "1) what is python and why is  it    popular                                                                         =>  pythoni is high&machine level programming language use for automation of devices. python is popular due to the community and usage of language is at larage scale and easy&simple understanding for beginner compare to other coding language ."
      ],
      "metadata": {
        "id": "jVGZUofLt0fF"
      }
    },
    {
      "cell_type": "markdown",
      "source": [
        "2) What is an interpreter in Python?\n",
        "=> interpreters help convert the machine level language into human readble language or high level language line by line because of easily detecte the error in initially ."
      ],
      "metadata": {
        "id": "mYbDR-imw2g9"
      }
    },
    {
      "cell_type": "markdown",
      "source": [
        "3) What are the pre - defined keys in python?\n",
        "=> pre- defined key are help(keywords)\n"
      ],
      "metadata": {
        "id": "MHLV3x83xdUl"
      }
    },
    {
      "cell_type": "code",
      "source": [
        "help('keywords')"
      ],
      "metadata": {
        "colab": {
          "base_uri": "https://localhost:8080/"
        },
        "id": "LJrB8unoysac",
        "outputId": "b09f918b-7935-48ae-b122-95f343a07a0a"
      },
      "execution_count": null,
      "outputs": [
        {
          "output_type": "stream",
          "name": "stdout",
          "text": [
            "\n",
            "Here is a list of the Python keywords.  Enter any keyword to get more help.\n",
            "\n",
            "False               class               from                or\n",
            "None                continue            global              pass\n",
            "True                def                 if                  raise\n",
            "and                 del                 import              return\n",
            "as                  elif                in                  try\n",
            "assert              else                is                  while\n",
            "async               except              lambda              with\n",
            "await               finally             nonlocal            yield\n",
            "break               for                 not                 \n",
            "\n"
          ]
        }
      ]
    },
    {
      "cell_type": "markdown",
      "source": [
        "4)can keyword be use as varible name ?\n",
        "=>  No, you cannot use them for a variable, because they have special meaning in language"
      ],
      "metadata": {
        "id": "sn2R8Uwfw6CU"
      }
    },
    {
      "cell_type": "markdown",
      "source": [
        "5)what is mutability in python ?\n",
        "=> mutability means whether an object's value can be changed in place after it's created.Their contents can be modified without changing their identity memory address"
      ],
      "metadata": {
        "id": "VoZNsOp-0IMN"
      }
    },
    {
      "cell_type": "markdown",
      "source": [
        "6) why are lists mutable, but tuples are immutable ?\n",
        "=> Lists are mutable because they're designed for dynamic data storage where elements can change, while tuples are immutable to ensure fixed, hashable, and safe data structures that can be used as dictionary keys."
      ],
      "metadata": {
        "id": "oUdpqv552OFF"
      }
    },
    {
      "cell_type": "markdown",
      "source": [
        "7) what is difference between '==' & 'is' operator in python ?\n",
        "=> #1 one compare the data and second one indicate existence of first data in 2nd data or varible ."
      ],
      "metadata": {
        "id": "CGxwmi8l5IJz"
      }
    },
    {
      "cell_type": "markdown",
      "source": [
        "8)what are the logical operators in python ?\n",
        "==> and , or ,(not return opposite value)"
      ],
      "metadata": {
        "id": "ucYoAHj16oHp"
      }
    },
    {
      "cell_type": "markdown",
      "source": [
        "9) what is  type casting in python ?\n",
        "==> type casting is changing the type of data int - str ,float- str,type manupulation."
      ],
      "metadata": {
        "id": "H7Q9ZrDO7Na4"
      }
    },
    {
      "cell_type": "markdown",
      "source": [
        "10)what is difference between implicity and explicity in pyhton ?\n",
        "==>  implicit means something happens automatically without you writing code for it implicit type conversion while explicit means you clearly specify it in your code"
      ],
      "metadata": {
        "id": "SjR6W-MM8RkR"
      }
    },
    {
      "cell_type": "markdown",
      "source": [
        "11) What is the purpose of conditional statements in Python ?\n",
        "==> it excute specific block of code or statment when condition met,and help for decision & control flow in program"
      ],
      "metadata": {
        "id": "Gcq1AAc59MVg"
      }
    },
    {
      "cell_type": "markdown",
      "source": [
        "12)How does the elif statement work ?\n",
        "==> elif statement excute when if terminate or false."
      ],
      "metadata": {
        "id": "hJU2aHh---VF"
      }
    },
    {
      "cell_type": "markdown",
      "source": [
        "13)What is the difference between for and while loops ?\n",
        "==> a for loop iterates over a sequence like a list, string, or range for a fixed number of times, while a while loop repeats as long as a given condition remains True, making it useful for uncertain iteration counts."
      ],
      "metadata": {
        "id": "jiUYFLZd_iLl"
      }
    },
    {
      "cell_type": "markdown",
      "source": [
        "14) Describe a scenario where a while loop is more suitable than a for loop?      ==> A while loop is more suitable when you don't know in advance how many times you need to repeat something — for example, repeatedly asking a user for a correct password until they enter it correctly. -->\n",
        "\n"
      ],
      "metadata": {
        "id": "aSLflbcyDGQb"
      }
    },
    {
      "cell_type": "code",
      "source": [
        "# Write a Python program to print \"Hello, World!\n",
        "print(\"Hello, World!\")"
      ],
      "metadata": {
        "colab": {
          "base_uri": "https://localhost:8080/"
        },
        "id": "bGKvYGNbD7ti",
        "outputId": "248b0ded-af16-45c8-ecde-ad2ea0b1dae2"
      },
      "execution_count": null,
      "outputs": [
        {
          "output_type": "stream",
          "name": "stdout",
          "text": [
            "Hello, World!\n"
          ]
        }
      ]
    },
    {
      "cell_type": "code",
      "source": [
        "# Write a Python program that displays your name and age\n",
        "name = \"harish\"\n",
        "age = 25\n",
        "print(name,age)"
      ],
      "metadata": {
        "colab": {
          "base_uri": "https://localhost:8080/"
        },
        "id": "w2FJwqj9EGTL",
        "outputId": "f20d6e22-582a-45ed-80f7-5fd90a39f7e2"
      },
      "execution_count": null,
      "outputs": [
        {
          "output_type": "stream",
          "name": "stdout",
          "text": [
            "harish 25\n"
          ]
        }
      ]
    },
    {
      "cell_type": "code",
      "source": [
        "# Write code to print all the pre-defined keywords in Python using the keyword library\n",
        "help( 'keywords')"
      ],
      "metadata": {
        "colab": {
          "base_uri": "https://localhost:8080/"
        },
        "id": "Qey4fOsIFxZk",
        "outputId": "f740ef72-8a24-4ab1-f43f-970d85b325c6"
      },
      "execution_count": null,
      "outputs": [
        {
          "output_type": "stream",
          "name": "stdout",
          "text": [
            "\n",
            "Here is a list of the Python keywords.  Enter any keyword to get more help.\n",
            "\n",
            "False               class               from                or\n",
            "None                continue            global              pass\n",
            "True                def                 if                  raise\n",
            "and                 del                 import              return\n",
            "as                  elif                in                  try\n",
            "assert              else                is                  while\n",
            "async               except              lambda              with\n",
            "await               finally             nonlocal            yield\n",
            "break               for                 not                 \n",
            "\n"
          ]
        }
      ]
    },
    {
      "cell_type": "code",
      "source": [
        "#Write a program that checks if a given word is a Python keyword.\n",
        "import keyword\n",
        "keyword.iskeyword('if')\n"
      ],
      "metadata": {
        "colab": {
          "base_uri": "https://localhost:8080/"
        },
        "id": "ZT9vOtyLGgKS",
        "outputId": "437f2dce-b27f-4ee7-f8e9-da3b42dcd735"
      },
      "execution_count": null,
      "outputs": [
        {
          "output_type": "execute_result",
          "data": {
            "text/plain": [
              "True"
            ]
          },
          "metadata": {},
          "execution_count": 23
        }
      ]
    },
    {
      "cell_type": "markdown",
      "source": [],
      "metadata": {
        "id": "7kWRaCZeDrid"
      }
    },
    {
      "cell_type": "code",
      "metadata": {
        "colab": {
          "base_uri": "https://localhost:8080/"
        },
        "id": "dd511fa0",
        "outputId": "a4941637-77a8-4772-dc49-936353b7b825"
      },
      "source": [
        "#Write a program that checks if a given word is a Python keyword.\n",
        "import keyword\n",
        "keyword.iskeyword('if')"
      ],
      "execution_count": null,
      "outputs": [
        {
          "output_type": "execute_result",
          "data": {
            "text/plain": [
              "True"
            ]
          },
          "metadata": {},
          "execution_count": 25
        }
      ]
    },
    {
      "cell_type": "code",
      "source": [
        "#Create a list and tuple in Python, and demonstrate how attempting to change an element works differently for each.\n",
        "a = ['harish','girish','karan','sushant']\n",
        "a\n"
      ],
      "metadata": {
        "colab": {
          "base_uri": "https://localhost:8080/"
        },
        "id": "T4HO_OsVI0rA",
        "outputId": "57754586-7805-45e1-d4fa-6275938cf494"
      },
      "execution_count": null,
      "outputs": [
        {
          "output_type": "execute_result",
          "data": {
            "text/plain": [
              "['harish', 'girish', 'karan', 'sushant']"
            ]
          },
          "metadata": {},
          "execution_count": 26
        }
      ]
    },
    {
      "cell_type": "code",
      "source": [
        "a [1] = 100"
      ],
      "metadata": {
        "id": "cbZyGoWdK0bO"
      },
      "execution_count": null,
      "outputs": []
    },
    {
      "cell_type": "code",
      "source": [
        "a"
      ],
      "metadata": {
        "colab": {
          "base_uri": "https://localhost:8080/"
        },
        "id": "cXRTOorGLPUq",
        "outputId": "7623a0c0-eeb5-4257-d8a4-985f64891b0f"
      },
      "execution_count": null,
      "outputs": [
        {
          "output_type": "execute_result",
          "data": {
            "text/plain": [
              "['harish', 100, 'karan', 'sushant']"
            ]
          },
          "metadata": {},
          "execution_count": 28
        }
      ]
    },
    {
      "cell_type": "markdown",
      "source": [
        "i don't know about tuple"
      ],
      "metadata": {
        "id": "ZTHaDQ_VLVJ-"
      }
    },
    {
      "cell_type": "code",
      "source": [
        "#6. Write a function to demonstrate the behavior of mutable and immutable arguments.\n",
        "\n"
      ],
      "metadata": {
        "id": "qZ451pMLLevI"
      },
      "execution_count": null,
      "outputs": []
    },
    {
      "cell_type": "code",
      "source": [
        "#7. Write a program that performs basic arithmetic operations on two user-input numbers.\n",
        "a = float(input(\"Enter first number: \"))\n",
        "b = float(input(\"Enter second number: \"))\n",
        "print(\"Addition:\", a + b)\n",
        "print(\"Subtraction:\", a - b)\n",
        "print(\"Multiplication:\", a * b)\n",
        "\n"
      ],
      "metadata": {
        "colab": {
          "base_uri": "https://localhost:8080/"
        },
        "id": "or98ovv3Ml76",
        "outputId": "9e4eaa2e-3a83-4d32-c5a9-83ec809a1a53"
      },
      "execution_count": null,
      "outputs": [
        {
          "output_type": "stream",
          "name": "stdout",
          "text": [
            "Enter first number: 10\n",
            "Enter second number: 2\n",
            "Addition: 12.0\n",
            "Subtraction: 8.0\n",
            "Multiplication: 20.0\n"
          ]
        }
      ]
    },
    {
      "cell_type": "code",
      "source": [
        "#8. Write a program to demonstrate the use of logical operators.\n",
        "# Get two numbers from the user\n",
        "a = int(input(\"Enter first number: \"))\n",
        "b = int(input(\"Enter second number: \"))\n",
        "if a > 0 and b > 0:\n",
        "    print(\"Both numbers are positive.\")\n",
        "if a > 0 or b > 0:\n",
        "    print(\"At least one number is positive.\")\n",
        "if not (a > 0):\n",
        "    print(\"First number is not positive.\")\n"
      ],
      "metadata": {
        "colab": {
          "base_uri": "https://localhost:8080/"
        },
        "id": "5RlCe6nlNqM7",
        "outputId": "9421d926-98f4-4cfd-c5c3-9a8e7d2b4381"
      },
      "execution_count": null,
      "outputs": [
        {
          "output_type": "stream",
          "name": "stdout",
          "text": [
            "Enter first number: 10\n",
            "Enter second number: 2\n",
            "Both numbers are positive.\n",
            "At least one number is positive.\n"
          ]
        }
      ]
    },
    {
      "cell_type": "code",
      "source": [
        " #Write a Python program to convert user input from string to integer, float, and boolean types.\n",
        "a = 5\n",
        "type(a)\n",
        "type(str(a))"
      ],
      "metadata": {
        "colab": {
          "base_uri": "https://localhost:8080/"
        },
        "id": "DGScykIgOXXY",
        "outputId": "3107cd89-73fb-4d1f-e255-bab95f2171ad"
      },
      "execution_count": null,
      "outputs": [
        {
          "output_type": "execute_result",
          "data": {
            "text/plain": [
              "str"
            ]
          },
          "metadata": {},
          "execution_count": 38
        }
      ]
    },
    {
      "cell_type": "code",
      "source": [
        "b = \"harish\"\n",
        "type(b)\n",
        "type(int(b))# string cann't be convert into any data type[integer, float, and boolean types.]"
      ],
      "metadata": {
        "colab": {
          "base_uri": "https://localhost:8080/",
          "height": 176
        },
        "id": "6PIjCYVAP-Y8",
        "outputId": "770d74dd-6b67-4e7e-a64b-0aa2583f48b0"
      },
      "execution_count": null,
      "outputs": [
        {
          "output_type": "error",
          "ename": "ValueError",
          "evalue": "invalid literal for int() with base 10: 'harish'",
          "traceback": [
            "\u001b[0;31m---------------------------------------------------------------------------\u001b[0m",
            "\u001b[0;31mValueError\u001b[0m                                Traceback (most recent call last)",
            "\u001b[0;32m/tmp/ipython-input-1198029445.py\u001b[0m in \u001b[0;36m<cell line: 0>\u001b[0;34m()\u001b[0m\n\u001b[1;32m      1\u001b[0m \u001b[0mb\u001b[0m \u001b[0;34m=\u001b[0m \u001b[0;34m\"harish\"\u001b[0m\u001b[0;34m\u001b[0m\u001b[0;34m\u001b[0m\u001b[0m\n\u001b[1;32m      2\u001b[0m \u001b[0mtype\u001b[0m\u001b[0;34m(\u001b[0m\u001b[0mb\u001b[0m\u001b[0;34m)\u001b[0m\u001b[0;34m\u001b[0m\u001b[0;34m\u001b[0m\u001b[0m\n\u001b[0;32m----> 3\u001b[0;31m \u001b[0mtype\u001b[0m\u001b[0;34m(\u001b[0m\u001b[0mint\u001b[0m\u001b[0;34m(\u001b[0m\u001b[0mb\u001b[0m\u001b[0;34m)\u001b[0m\u001b[0;34m)\u001b[0m\u001b[0;34m\u001b[0m\u001b[0;34m\u001b[0m\u001b[0m\n\u001b[0m",
            "\u001b[0;31mValueError\u001b[0m: invalid literal for int() with base 10: 'harish'"
          ]
        }
      ]
    },
    {
      "cell_type": "code",
      "source": [
        "#10. Write code to demonstrate type casting with list elements.\n",
        "# Original list with string numbers\n",
        "string_list = [\"1\", \"2\", \"3\", \"4\"]\n",
        "\n",
        "# Convert each element to integer\n",
        "int_list = [int(x) for x in string_list]\n",
        "\n",
        "# Convert each element to float\n",
        "float_list = [float(x) for x in string_list]\n",
        "\n",
        "# Convert integers to strings again\n",
        "str_list = [str(x) for x in int_list]\n",
        "\n",
        "print(\"Original list (strings):\", string_list)\n",
        "print(\"After casting to integers:\", int_list)\n",
        "print(\"After casting to floats:\", float_list)\n",
        "print(\"After casting back to strings:\", str_list)\n",
        "\n"
      ],
      "metadata": {
        "colab": {
          "base_uri": "https://localhost:8080/"
        },
        "id": "c8LkytP0Q6TA",
        "outputId": "217abea5-f7f6-42f6-9c27-190c1ae42eb7"
      },
      "execution_count": 1,
      "outputs": [
        {
          "output_type": "stream",
          "name": "stdout",
          "text": [
            "Original list (strings): ['1', '2', '3', '4']\n",
            "After casting to integers: [1, 2, 3, 4]\n",
            "After casting to floats: [1.0, 2.0, 3.0, 4.0]\n",
            "After casting back to strings: ['1', '2', '3', '4']\n"
          ]
        }
      ]
    },
    {
      "cell_type": "code",
      "source": [
        "#11. Write a program that checks if a number is positive, negative, or zero.\n",
        "num = float(input(\"Enter a number: \"))\n",
        "if num > 0:\n",
        "    print(\"The number is positive.\")\n",
        "elif num < 0:\n",
        "    print(\"The number is negative.\")\n",
        "else:\n",
        "    print(\"The number is zero.\")\n"
      ],
      "metadata": {
        "id": "Kwib-cdia7gB"
      },
      "execution_count": null,
      "outputs": []
    },
    {
      "cell_type": "code",
      "source": [
        "#12. Write a for loop to print numbers from 1 to 10.\n",
        "for i in range(1,11):\n",
        "  print(i)"
      ],
      "metadata": {
        "colab": {
          "base_uri": "https://localhost:8080/"
        },
        "id": "pmivM5pPbOhY",
        "outputId": "e89e4ea2-2a2f-4c61-f418-dbfa5bfd70ef"
      },
      "execution_count": null,
      "outputs": [
        {
          "output_type": "stream",
          "name": "stdout",
          "text": [
            "1\n",
            "2\n",
            "3\n",
            "4\n",
            "5\n",
            "6\n",
            "7\n",
            "8\n",
            "9\n",
            "10\n"
          ]
        }
      ]
    },
    {
      "cell_type": "code",
      "source": [
        "#13. Write a Python program to find the sum of all even numbers between 1 and 50.\n",
        "sum = 0\n",
        "for i in range(1, 51):\n",
        "    if i % 2 == 0:\n",
        "        sum += i\n",
        "print(\"The sum of all even numbers between 1 and 50 is:\", sum)\n",
        "\n",
        "\n"
      ],
      "metadata": {
        "colab": {
          "base_uri": "https://localhost:8080/"
        },
        "id": "YDp95BZpb_Gc",
        "outputId": "3129fc44-54d0-48e6-9edf-e670a30e3aeb"
      },
      "execution_count": null,
      "outputs": [
        {
          "output_type": "stream",
          "name": "stdout",
          "text": [
            "The sum of all even numbers between 1 and 50 is: 650\n"
          ]
        }
      ]
    },
    {
      "cell_type": "code",
      "source": [
        "#14. Write a program to reverse a string using a while loop\n",
        "string = input(\"Enter a string: \")\n",
        "reversed_string = \"\"\n",
        "index = len(string) - 1\n",
        "while index >= 0:\n",
        "    reversed_string += string[index]\n",
        "    index -= 1\n",
        "print(\"The reversed string is:\", reversed_string)"
      ],
      "metadata": {
        "id": "qOPK2BW1cUuo"
      },
      "execution_count": null,
      "outputs": []
    },
    {
      "cell_type": "code",
      "source": [
        "#15. Write a Python program to calculate the factorial of a number provided by the user using a while loop.\n",
        "\n",
        "num = int(input(\"Enter a number: \"))\n",
        "\n",
        "factorial = 1\n",
        "i = 1\n",
        "\n",
        "while i <= num:\n",
        "    factorial *= i\n",
        "    i += 1\n",
        "\n",
        "print(f\"Factorial of {num} is {factorial}\")\n"
      ],
      "metadata": {
        "colab": {
          "base_uri": "https://localhost:8080/"
        },
        "id": "qACXbzxrdNzs",
        "outputId": "575653f2-20bd-4b4a-99c5-6a9606a12ddc"
      },
      "execution_count": null,
      "outputs": [
        {
          "output_type": "stream",
          "name": "stdout",
          "text": [
            "Enter a number: 6\n",
            "Factorial of 6 is 720\n"
          ]
        }
      ]
    }
  ]
}